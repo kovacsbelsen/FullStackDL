{
 "cells": [
  {
   "cell_type": "markdown",
   "metadata": {},
   "source": [
    "# Abstractions"
   ]
  },
  {
   "cell_type": "markdown",
   "metadata": {},
   "source": [
    "When a project gets big you need to start creating abstractions. It's important to not do it too early (that's a very common mistake), but as the project grows you will see some patterns appear very often.\n",
    "\n",
    "Sometimes it's good to take those patterns and create an abstraction around them. The objective of that abstraction is hidding complexity."
   ]
  },
  {
   "cell_type": "code",
   "execution_count": 1,
   "metadata": {
    "ExecuteTime": {
     "end_time": "2021-04-19T13:57:29.211659Z",
     "start_time": "2021-04-19T13:57:29.192737Z"
    }
   },
   "outputs": [],
   "source": [
    "class Car:\n",
    "    def __init__(self, wheels, power, color=\"red\"):\n",
    "        self.wheels = wheels\n",
    "        self.power = power\n",
    "        self.color = color\n",
    "        self.position = (0, 0)\n",
    "\n",
    "    def description(self, word):\n",
    "\n",
    "        return f\"\"\"\n",
    "The car is {self.color}\n",
    "It has {self.wheels} wheels\n",
    "Power: {self.power}\n",
    "\n",
    "A random word for you:\n",
    "{word}\n",
    "\"\"\".strip()\n",
    "\n",
    "    def move(self, distance):\n",
    "\n",
    "        old_x = self.position[0]\n",
    "        old_y = self.position[1]\n",
    "\n",
    "        self.position = (old_x + distance, old_y + distance)\n",
    "\n",
    "        print(f\"I'm now at {self.posicion}\")\n",
    "\n",
    "        return True"
   ]
  },
  {
   "cell_type": "code",
   "execution_count": 4,
   "metadata": {
    "ExecuteTime": {
     "end_time": "2021-04-19T13:57:33.307237Z",
     "start_time": "2021-04-19T13:57:33.293275Z"
    }
   },
   "outputs": [],
   "source": [
    "porsche = Car(wheels=5, power=150)"
   ]
  },
  {
   "cell_type": "code",
   "execution_count": 5,
   "metadata": {
    "ExecuteTime": {
     "end_time": "2021-04-19T13:57:33.819087Z",
     "start_time": "2021-04-19T13:57:33.809113Z"
    }
   },
   "outputs": [
    {
     "name": "stdout",
     "output_type": "stream",
     "text": [
      "The car is red\n",
      "It has 5 wheels\n",
      "Power: 150\n",
      "\n",
      "A random word for you:\n",
      "hellos strivers\n"
     ]
    }
   ],
   "source": [
    "print(porsche.description(\"hellos strivers\"))"
   ]
  },
  {
   "cell_type": "markdown",
   "metadata": {},
   "source": [
    "## TO DO:\n",
    "\n",
    "We are going to do some operations with a database. Those operations will be quite standardized, so maybe we can abstract them away. Now it's your job to do it."
   ]
  },
  {
   "cell_type": "markdown",
   "metadata": {},
   "source": [
    "Make things idempotent whenever possible."
   ]
  },
  {
   "cell_type": "code",
   "execution_count": 1,
   "metadata": {
    "ExecuteTime": {
     "end_time": "2021-04-19T13:57:34.629954Z",
     "start_time": "2021-04-19T13:57:34.618952Z"
    }
   },
   "outputs": [],
   "source": [
    "import datetime as dt"
   ]
  },
  {
   "cell_type": "code",
   "execution_count": 6,
   "metadata": {
    "ExecuteTime": {
     "end_time": "2021-04-19T13:57:34.925643Z",
     "start_time": "2021-04-19T13:57:34.902681Z"
    }
   },
   "outputs": [],
   "source": [
    "import sqlite3\n",
    "\n",
    "# CREATE TABLE IF NOT EXISTS users (..., ..., ...)  -- <-- complete this\n",
    "\n",
    "DB_SCHEMA = \"\"\"CREATE TABLE IF NOT EXISTS logs (time TEXT, key TEXT, value TEXT);\n",
    "CREATE TABLE IF NOT EXISTS users (email TEXT, user_id INT, key TEXT);\"\"\".strip()\n",
    "\n",
    "\n",
    "class DB:\n",
    "    def init(self, dbname):\n",
    "        self.dbname = dbname\n",
    "\n",
    "        self.conn = sqlite3.connect(self.dbname)\n",
    "\n",
    "        with self.conn as cursor:\n",
    "            cursor.executescript(DB_SCHEMA)\n",
    "\n",
    "    def insert_log(self, key, value):\n",
    "        now = dt.datetime.utcnow().isoformat()\n",
    "\n",
    "        with self.conn as cursor:\n",
    "            cursor.execute(\n",
    "                \"INSERT INTO logs VALUES (:time, :key, :value)\",\n",
    "                {\"time\": now, \"key\": key, \"value\": value},\n",
    "            )\n",
    "\n",
    "    def create_user(self, email, user_id, key):\n",
    "        user_id = str(uuid4())\n",
    "        \n",
    "        user = {\"email\": email, \"user_id\":user_id, \"key\": key}\n",
    "        \n",
    "        with self.conn as cursor:\n",
    "            cursor.execute(\n",
    "                \"INSERT INTO logs VALUES (:time, :key, :value)\",\n",
    "                user,\n",
    "            )\n",
    "        return user\n",
    "        # TODO\n",
    "        # insert a new user\n",
    "        # return the new user created\n",
    "        #pass\n",
    "\n",
    "    def validate_key(self, key):\n",
    "        # TODO\n",
    "        # check the user_id OR key OR both that is associated with the key\n",
    "        # return the user_id / email\n",
    "        #pass\n",
    "        \n",
    "        result = self.conn(\"SELECT * FROM user WHERE key =:key\", {\"key\": key})\n",
    "        result = result.fetchone()\n",
    "        \n",
    "        return result"
   ]
  },
  {
   "cell_type": "code",
   "execution_count": 7,
   "metadata": {
    "ExecuteTime": {
     "end_time": "2021-04-19T13:57:35.741505Z",
     "start_time": "2021-04-19T13:57:35.443277Z"
    }
   },
   "outputs": [
    {
     "ename": "TypeError",
     "evalue": "DB() takes no arguments",
     "output_type": "error",
     "traceback": [
      "\u001b[1;31m---------------------------------------------------------------------------\u001b[0m",
      "\u001b[1;31mTypeError\u001b[0m                                 Traceback (most recent call last)",
      "\u001b[1;32m<ipython-input-7-39f4027e07c9>\u001b[0m in \u001b[0;36m<module>\u001b[1;34m\u001b[0m\n\u001b[1;32m----> 1\u001b[1;33m \u001b[0mdb\u001b[0m \u001b[1;33m=\u001b[0m \u001b[0mDB\u001b[0m\u001b[1;33m(\u001b[0m\u001b[0mdbname\u001b[0m\u001b[1;33m=\u001b[0m\u001b[1;34m\"test2.db\"\u001b[0m\u001b[1;33m)\u001b[0m\u001b[1;33m\u001b[0m\u001b[1;33m\u001b[0m\u001b[0m\n\u001b[0m",
      "\u001b[1;31mTypeError\u001b[0m: DB() takes no arguments"
     ]
    }
   ],
   "source": [
    "db = DB(dbname=\"test2.db\")"
   ]
  },
  {
   "cell_type": "code",
   "execution_count": 8,
   "metadata": {
    "ExecuteTime": {
     "end_time": "2021-04-19T13:57:36.057078Z",
     "start_time": "2021-04-19T13:57:36.047065Z"
    }
   },
   "outputs": [
    {
     "ename": "NameError",
     "evalue": "name 'db' is not defined",
     "output_type": "error",
     "traceback": [
      "\u001b[1;31m---------------------------------------------------------------------------\u001b[0m",
      "\u001b[1;31mNameError\u001b[0m                                 Traceback (most recent call last)",
      "\u001b[1;32m<ipython-input-8-4209956d9fb2>\u001b[0m in \u001b[0;36m<module>\u001b[1;34m\u001b[0m\n\u001b[1;32m----> 1\u001b[1;33m \u001b[0mdb\u001b[0m\u001b[1;33m.\u001b[0m\u001b[0minsert_log\u001b[0m\u001b[1;33m(\u001b[0m\u001b[1;34m\"hello\"\u001b[0m\u001b[1;33m,\u001b[0m \u001b[1;34m\"world\"\u001b[0m\u001b[1;33m)\u001b[0m\u001b[1;33m\u001b[0m\u001b[1;33m\u001b[0m\u001b[0m\n\u001b[0m",
      "\u001b[1;31mNameError\u001b[0m: name 'db' is not defined"
     ]
    }
   ],
   "source": [
    "db.insert_log(\"hello\", \"world\")"
   ]
  },
  {
   "cell_type": "code",
   "execution_count": null,
   "metadata": {},
   "outputs": [],
   "source": []
  }
 ],
 "metadata": {
  "kernelspec": {
   "display_name": "Python 3",
   "language": "python",
   "name": "python3"
  },
  "language_info": {
   "codemirror_mode": {
    "name": "ipython",
    "version": 3
   },
   "file_extension": ".py",
   "mimetype": "text/x-python",
   "name": "python",
   "nbconvert_exporter": "python",
   "pygments_lexer": "ipython3",
   "version": "3.8.5"
  }
 },
 "nbformat": 4,
 "nbformat_minor": 5
}
