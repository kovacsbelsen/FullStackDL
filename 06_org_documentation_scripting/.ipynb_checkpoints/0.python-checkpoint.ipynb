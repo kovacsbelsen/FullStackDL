{
 "cells": [
  {
   "cell_type": "markdown",
   "metadata": {},
   "source": [
    "# Abstractions"
   ]
  },
  {
   "cell_type": "markdown",
   "metadata": {},
   "source": [
    "When a project gets big you need to start creating abstractions. It's important to not do it too early (that's a very common mistake), but as the project grows you will see some patterns appear very often.\n",
    "\n",
    "Sometimes it's good to take those patterns and create an abstraction around them. The objective of that abstraction is hidding complexity."
   ]
  },
  {
   "cell_type": "code",
   "execution_count": 2,
   "metadata": {
    "ExecuteTime": {
     "end_time": "2021-04-19T07:30:01.032576Z",
     "start_time": "2021-04-19T07:30:01.008641Z"
    }
   },
   "outputs": [],
   "source": [
    "class Car:\n",
    "    def __init__(self, wheels, power, color=\"red\"):\n",
    "        self.wheels = wheels\n",
    "        self.power = power\n",
    "        self.color = color\n",
    "        self.position = (0, 0)\n",
    "\n",
    "    def description(self, word):\n",
    "\n",
    "        return f\"\"\"\n",
    "The car is {self.color}\n",
    "It has {self.wheels} wheels\n",
    "Power: {self.power}\n",
    "\n",
    "A random word for you:\n",
    "{word}\n",
    "\"\"\".strip()\n",
    "\n",
    "    def move(self, distance):\n",
    "\n",
    "        old_x = self.position[0]\n",
    "        old_y = self.position[1]\n",
    "\n",
    "        self.position = (old_x + distance, old_y + distance)\n",
    "\n",
    "        print(f\"I'm now at {self.posicion}\")\n",
    "\n",
    "        return True"
   ]
  },
  {
   "cell_type": "code",
   "execution_count": 4,
   "metadata": {
    "ExecuteTime": {
     "end_time": "2021-04-19T07:30:49.011185Z",
     "start_time": "2021-04-19T07:30:48.998219Z"
    }
   },
   "outputs": [],
   "source": [
    "porsche = Car(wheels=5, power=150)"
   ]
  },
  {
   "cell_type": "code",
   "execution_count": 5,
   "metadata": {
    "ExecuteTime": {
     "end_time": "2021-04-19T07:30:49.816033Z",
     "start_time": "2021-04-19T07:30:49.798081Z"
    }
   },
   "outputs": [
    {
     "name": "stdout",
     "output_type": "stream",
     "text": [
      "The car is red\n",
      "It has 5 wheels\n",
      "Power: 150\n",
      "\n",
      "A random word for you:\n",
      "hello strivers\n"
     ]
    }
   ],
   "source": [
    "print(porsche.description(\"hello strivers\"))"
   ]
  },
  {
   "cell_type": "markdown",
   "metadata": {},
   "source": [
    "## TO DO:\n",
    "\n",
    "We are going to do some operations with a database. Those operations will be quite standardized, so maybe we can abstract them away. Now it's your job to do it."
   ]
  },
  {
   "cell_type": "markdown",
   "metadata": {},
   "source": [
    "Make things idempotent whenever possible."
   ]
  },
  {
   "cell_type": "code",
   "execution_count": 13,
   "metadata": {
    "ExecuteTime": {
     "end_time": "2021-04-19T07:36:11.621063Z",
     "start_time": "2021-04-19T07:36:11.606104Z"
    }
   },
   "outputs": [],
   "source": [
    "import datetime as dt"
   ]
  },
  {
   "cell_type": "code",
   "execution_count": 16,
   "metadata": {
    "ExecuteTime": {
     "end_time": "2021-04-19T07:37:29.093508Z",
     "start_time": "2021-04-19T07:37:29.085530Z"
    }
   },
   "outputs": [],
   "source": [
    "import sqlite3\n",
    "\n",
    "#CREATE TABLE IF NOT EXISTS users (..., ..., ...)  -- <-- complete this\n",
    "\n",
    "DB_SCHEMA = \"\"\"\n",
    "CREATE TABLE IF NOT EXISTS logs (time TEXT, key TEXT, value TEXT)\n",
    "\n",
    "\n",
    "\"\"\".strip()\n",
    "\n",
    "class DB:\n",
    "    def __init__(self, dbname):\n",
    "        self.dbname = dbname\n",
    "        \n",
    "        self.conn = sqlite3.connect(dbname)\n",
    "        \n",
    "        with self.conn as c:\n",
    "            c.execute(DB_SCHEMA)\n",
    "    \n",
    "    def insert_log(self, message):\n",
    "        \n",
    "        now = dt.datetime.utcnow().isoformat()\n",
    "        \n",
    "        with self.conn as cursor:\n",
    "            cursor.execute(\n",
    "            \"INSERT INTO logs VALUES (:time, :key, :value)\",\n",
    "            {\"time\": now, \"key\": key, \"value\": value},)\n",
    "        pass"
   ]
  },
  {
   "cell_type": "code",
   "execution_count": 11,
   "metadata": {
    "ExecuteTime": {
     "end_time": "2021-04-19T07:35:29.137897Z",
     "start_time": "2021-04-19T07:35:29.113716Z"
    }
   },
   "outputs": [],
   "source": [
    "db = DB(dbname=\"test.db\")"
   ]
  },
  {
   "cell_type": "code",
   "execution_count": 12,
   "metadata": {
    "ExecuteTime": {
     "end_time": "2021-04-19T07:35:39.604766Z",
     "start_time": "2021-04-19T07:35:39.587985Z"
    }
   },
   "outputs": [
    {
     "ename": "SyntaxError",
     "evalue": "invalid syntax (<ipython-input-12-9baf974121cf>, line 1)",
     "output_type": "error",
     "traceback": [
      "\u001b[1;36m  File \u001b[1;32m\"<ipython-input-12-9baf974121cf>\"\u001b[1;36m, line \u001b[1;32m1\u001b[0m\n\u001b[1;33m    db.\u001b[0m\n\u001b[1;37m       ^\u001b[0m\n\u001b[1;31mSyntaxError\u001b[0m\u001b[1;31m:\u001b[0m invalid syntax\n"
     ]
    }
   ],
   "source": [
    "db."
   ]
  },
  {
   "cell_type": "markdown",
   "metadata": {},
   "source": [
    "## Python packages and dependencies\n",
    "\n",
    "[pip-tools](https://pypi.org/project/pip-tools/)\n",
    "\n",
    "\n",
    "```bash\n",
    "pip-compile -v --output-file requirements/main.txt requirements/main.in\n",
    "pip-compile -v --output-file requirements/dev.txt requirements/dev.in  # --allow-unsafe\n",
    "```\n",
    "\n",
    "```bash\n",
    "pip-compile -v --upgrade --output-file requirements/main.txt requirements/main.in\n",
    "pip-compile -v --upgrade --output-file requirements/dev.txt requirements/dev.in\n",
    "```"
   ]
  },
  {
   "cell_type": "markdown",
   "metadata": {},
   "source": [
    "## Code formatting, linting, style and best practices\n",
    "\n",
    "[black](https://github.com/psf/black#installation-and-usage)\n",
    "\n",
    "[flake8](https://flake8.pycqa.org/en/latest/)"
   ]
  }
 ],
 "metadata": {
  "kernelspec": {
   "display_name": "Python 3",
   "language": "python",
   "name": "python3"
  },
  "language_info": {
   "codemirror_mode": {
    "name": "ipython",
    "version": 3
   },
   "file_extension": ".py",
   "mimetype": "text/x-python",
   "name": "python",
   "nbconvert_exporter": "python",
   "pygments_lexer": "ipython3",
   "version": "3.8.5"
  }
 },
 "nbformat": 4,
 "nbformat_minor": 5
}
