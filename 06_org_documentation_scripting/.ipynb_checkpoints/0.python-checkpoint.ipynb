{
 "cells": [
  {
   "cell_type": "markdown",
   "metadata": {},
   "source": [
    "# Abstractions"
   ]
  },
  {
   "cell_type": "markdown",
   "metadata": {},
   "source": [
    "When a project gets big you need to start creating abstractions. It's important to not do it too early (that's a very common mistake), but as the project grows you will see some patterns appear very often.\n",
    "\n",
    "Sometimes it's good to take those patterns and create an abstraction around them. The objective of that abstraction is hidding complexity."
   ]
  },
  {
   "cell_type": "code",
   "execution_count": 1,
   "metadata": {},
   "outputs": [
    {
     "name": "stdout",
     "output_type": "stream",
     "text": [
      "Collecting mkdocs-jupyter\n",
      "  Downloading mkdocs-jupyter-0.16.1.tar.gz (1.7 MB)\n",
      "  Installing build dependencies: started\n",
      "  Installing build dependencies: finished with status 'done'\n",
      "  Getting requirements to build wheel: started\n",
      "  Getting requirements to build wheel: finished with status 'done'\n",
      "    Preparing wheel metadata: started\n",
      "    Preparing wheel metadata: finished with status 'done'\n",
      "Requirement already satisfied: nbconvert<7,>=6.0.7 in c:\\users\\kovac\\anaconda3\\envs\\full_stack\\lib\\site-packages (from mkdocs-jupyter) (6.0.7)\n",
      "Collecting jupytext>=1.11.0\n",
      "  Downloading jupytext-1.11.1-py3-none-any.whl (291 kB)\n",
      "Requirement already satisfied: pyyaml in c:\\users\\kovac\\anaconda3\\envs\\full_stack\\lib\\site-packages (from jupytext>=1.11.0->mkdocs-jupyter) (5.3.1)\n",
      "Requirement already satisfied: toml in c:\\users\\kovac\\anaconda3\\envs\\full_stack\\lib\\site-packages (from jupytext>=1.11.0->mkdocs-jupyter) (0.10.2)\n",
      "Requirement already satisfied: nbformat in c:\\users\\kovac\\anaconda3\\envs\\full_stack\\lib\\site-packages (from jupytext>=1.11.0->mkdocs-jupyter) (5.0.8)\n",
      "Collecting markdown-it-py~=0.6.0\n",
      "  Downloading markdown_it_py-0.6.2-py3-none-any.whl (81 kB)\n",
      "Requirement already satisfied: attrs<21,>=19 in c:\\users\\kovac\\anaconda3\\envs\\full_stack\\lib\\site-packages (from markdown-it-py~=0.6.0->jupytext>=1.11.0->mkdocs-jupyter) (20.3.0)\n",
      "Collecting mdit-py-plugins~=0.2.1\n",
      "  Downloading mdit_py_plugins-0.2.6-py3-none-any.whl (39 kB)\n",
      "Collecting mkdocs>=1.1.0\n",
      "  Downloading mkdocs-1.1.2-py3-none-any.whl (6.4 MB)\n",
      "Requirement already satisfied: Jinja2>=2.10.1 in c:\\users\\kovac\\anaconda3\\envs\\full_stack\\lib\\site-packages (from mkdocs>=1.1.0->mkdocs-jupyter) (2.11.2)\n",
      "Requirement already satisfied: click>=3.3 in c:\\users\\kovac\\anaconda3\\envs\\full_stack\\lib\\site-packages (from mkdocs>=1.1.0->mkdocs-jupyter) (7.1.2)\n",
      "Requirement already satisfied: pyyaml in c:\\users\\kovac\\anaconda3\\envs\\full_stack\\lib\\site-packages (from jupytext>=1.11.0->mkdocs-jupyter) (5.3.1)\n",
      "Requirement already satisfied: tornado>=5.0 in c:\\users\\kovac\\anaconda3\\envs\\full_stack\\lib\\site-packages (from mkdocs>=1.1.0->mkdocs-jupyter) (6.1)\n",
      "Requirement already satisfied: MarkupSafe>=0.23 in c:\\users\\kovac\\anaconda3\\envs\\full_stack\\lib\\site-packages (from Jinja2>=2.10.1->mkdocs>=1.1.0->mkdocs-jupyter) (1.1.1)\n",
      "Collecting livereload>=2.5.1\n",
      "  Downloading livereload-2.6.3.tar.gz (25 kB)\n",
      "Requirement already satisfied: six in c:\\users\\kovac\\anaconda3\\envs\\full_stack\\lib\\site-packages (from livereload>=2.5.1->mkdocs>=1.1.0->mkdocs-jupyter) (1.15.0)\n",
      "Requirement already satisfied: tornado>=5.0 in c:\\users\\kovac\\anaconda3\\envs\\full_stack\\lib\\site-packages (from mkdocs>=1.1.0->mkdocs-jupyter) (6.1)\n",
      "Collecting lunr[languages]==0.5.8\n",
      "  Downloading lunr-0.5.8-py2.py3-none-any.whl (2.3 MB)\n",
      "Requirement already satisfied: six in c:\\users\\kovac\\anaconda3\\envs\\full_stack\\lib\\site-packages (from livereload>=2.5.1->mkdocs>=1.1.0->mkdocs-jupyter) (1.15.0)\n",
      "Collecting future>=0.16.0\n",
      "  Using cached future-0.18.2-py3-none-any.whl\n",
      "Requirement already satisfied: six in c:\\users\\kovac\\anaconda3\\envs\\full_stack\\lib\\site-packages (from livereload>=2.5.1->mkdocs>=1.1.0->mkdocs-jupyter) (1.15.0)\n",
      "Collecting Markdown>=3.2.1\n",
      "  Downloading Markdown-3.3.4-py3-none-any.whl (97 kB)\n",
      "Requirement already satisfied: bleach in c:\\users\\kovac\\anaconda3\\envs\\full_stack\\lib\\site-packages (from nbconvert<7,>=6.0.7->mkdocs-jupyter) (3.2.1)\n",
      "Requirement already satisfied: nbclient<0.6.0,>=0.5.0 in c:\\users\\kovac\\anaconda3\\envs\\full_stack\\lib\\site-packages (from nbconvert<7,>=6.0.7->mkdocs-jupyter) (0.5.1)\n",
      "Requirement already satisfied: traitlets>=4.2 in c:\\users\\kovac\\anaconda3\\envs\\full_stack\\lib\\site-packages (from nbconvert<7,>=6.0.7->mkdocs-jupyter) (5.0.5)\n",
      "Requirement already satisfied: pandocfilters>=1.4.1 in c:\\users\\kovac\\anaconda3\\envs\\full_stack\\lib\\site-packages (from nbconvert<7,>=6.0.7->mkdocs-jupyter) (1.4.3)\n",
      "Requirement already satisfied: nbformat in c:\\users\\kovac\\anaconda3\\envs\\full_stack\\lib\\site-packages (from jupytext>=1.11.0->mkdocs-jupyter) (5.0.8)\n",
      "Requirement already satisfied: entrypoints>=0.2.2 in c:\\users\\kovac\\anaconda3\\envs\\full_stack\\lib\\site-packages (from nbconvert<7,>=6.0.7->mkdocs-jupyter) (0.3)\n",
      "Requirement already satisfied: pygments>=2.4.1 in c:\\users\\kovac\\anaconda3\\envs\\full_stack\\lib\\site-packages (from nbconvert<7,>=6.0.7->mkdocs-jupyter) (2.7.2)\n",
      "Requirement already satisfied: jupyterlab-pygments in c:\\users\\kovac\\anaconda3\\envs\\full_stack\\lib\\site-packages (from nbconvert<7,>=6.0.7->mkdocs-jupyter) (0.1.2)\n",
      "Requirement already satisfied: Jinja2>=2.10.1 in c:\\users\\kovac\\anaconda3\\envs\\full_stack\\lib\\site-packages (from mkdocs>=1.1.0->mkdocs-jupyter) (2.11.2)\n",
      "Requirement already satisfied: mistune<2,>=0.8.1 in c:\\users\\kovac\\anaconda3\\envs\\full_stack\\lib\\site-packages (from nbconvert<7,>=6.0.7->mkdocs-jupyter) (0.8.4)\n",
      "Requirement already satisfied: defusedxml in c:\\users\\kovac\\anaconda3\\envs\\full_stack\\lib\\site-packages (from nbconvert<7,>=6.0.7->mkdocs-jupyter) (0.6.0)\n",
      "Requirement already satisfied: testpath in c:\\users\\kovac\\anaconda3\\envs\\full_stack\\lib\\site-packages (from nbconvert<7,>=6.0.7->mkdocs-jupyter) (0.4.4)\n",
      "Requirement already satisfied: jupyter-core in c:\\users\\kovac\\anaconda3\\envs\\full_stack\\lib\\site-packages (from nbconvert<7,>=6.0.7->mkdocs-jupyter) (4.7.0)\n",
      "Requirement already satisfied: webencodings in c:\\users\\kovac\\anaconda3\\envs\\full_stack\\lib\\site-packages (from bleach->nbconvert<7,>=6.0.7->mkdocs-jupyter) (0.5.1)\n",
      "Requirement already satisfied: packaging in c:\\users\\kovac\\anaconda3\\envs\\full_stack\\lib\\site-packages (from bleach->nbconvert<7,>=6.0.7->mkdocs-jupyter) (20.7)\n",
      "Requirement already satisfied: six in c:\\users\\kovac\\anaconda3\\envs\\full_stack\\lib\\site-packages (from livereload>=2.5.1->mkdocs>=1.1.0->mkdocs-jupyter) (1.15.0)\n",
      "Requirement already satisfied: pywin32>=1.0 in c:\\users\\kovac\\anaconda3\\envs\\full_stack\\lib\\site-packages (from jupyter-core->nbconvert<7,>=6.0.7->mkdocs-jupyter) (227)\n",
      "Requirement already satisfied: traitlets>=4.2 in c:\\users\\kovac\\anaconda3\\envs\\full_stack\\lib\\site-packages (from nbconvert<7,>=6.0.7->mkdocs-jupyter) (5.0.5)\n",
      "Requirement already satisfied: pygments>=2.4.1 in c:\\users\\kovac\\anaconda3\\envs\\full_stack\\lib\\site-packages (from nbconvert<7,>=6.0.7->mkdocs-jupyter) (2.7.2)\n",
      "Requirement already satisfied: jupyter-client>=6.1.5 in c:\\users\\kovac\\anaconda3\\envs\\full_stack\\lib\\site-packages (from nbclient<0.6.0,>=0.5.0->nbconvert<7,>=6.0.7->mkdocs-jupyter) (6.1.7)\n",
      "Requirement already satisfied: traitlets>=4.2 in c:\\users\\kovac\\anaconda3\\envs\\full_stack\\lib\\site-packages (from nbconvert<7,>=6.0.7->mkdocs-jupyter) (5.0.5)\n",
      "Requirement already satisfied: async-generator in c:\\users\\kovac\\anaconda3\\envs\\full_stack\\lib\\site-packages (from nbclient<0.6.0,>=0.5.0->nbconvert<7,>=6.0.7->mkdocs-jupyter) (1.10)\n",
      "Requirement already satisfied: nbformat in c:\\users\\kovac\\anaconda3\\envs\\full_stack\\lib\\site-packages (from jupytext>=1.11.0->mkdocs-jupyter) (5.0.8)\n",
      "Requirement already satisfied: nest-asyncio in c:\\users\\kovac\\anaconda3\\envs\\full_stack\\lib\\site-packages (from nbclient<0.6.0,>=0.5.0->nbconvert<7,>=6.0.7->mkdocs-jupyter) (1.4.3)\n",
      "Requirement already satisfied: python-dateutil>=2.1 in c:\\users\\kovac\\anaconda3\\envs\\full_stack\\lib\\site-packages (from jupyter-client>=6.1.5->nbclient<0.6.0,>=0.5.0->nbconvert<7,>=6.0.7->mkdocs-jupyter) (2.8.1)\n",
      "Requirement already satisfied: tornado>=5.0 in c:\\users\\kovac\\anaconda3\\envs\\full_stack\\lib\\site-packages (from mkdocs>=1.1.0->mkdocs-jupyter) (6.1)\n",
      "Requirement already satisfied: traitlets>=4.2 in c:\\users\\kovac\\anaconda3\\envs\\full_stack\\lib\\site-packages (from nbconvert<7,>=6.0.7->mkdocs-jupyter) (5.0.5)\n",
      "Requirement already satisfied: pyzmq>=13 in c:\\users\\kovac\\anaconda3\\envs\\full_stack\\lib\\site-packages (from jupyter-client>=6.1.5->nbclient<0.6.0,>=0.5.0->nbconvert<7,>=6.0.7->mkdocs-jupyter) (20.0.0)\n",
      "Requirement already satisfied: jupyter-core in c:\\users\\kovac\\anaconda3\\envs\\full_stack\\lib\\site-packages (from nbconvert<7,>=6.0.7->mkdocs-jupyter) (4.7.0)\n",
      "Requirement already satisfied: traitlets>=4.2 in c:\\users\\kovac\\anaconda3\\envs\\full_stack\\lib\\site-packages (from nbconvert<7,>=6.0.7->mkdocs-jupyter) (5.0.5)\n",
      "Requirement already satisfied: ipython-genutils in c:\\users\\kovac\\anaconda3\\envs\\full_stack\\lib\\site-packages (from nbformat->jupytext>=1.11.0->mkdocs-jupyter) (0.2.0)\n",
      "Requirement already satisfied: jsonschema!=2.5.0,>=2.4 in c:\\users\\kovac\\anaconda3\\envs\\full_stack\\lib\\site-packages (from nbformat->jupytext>=1.11.0->mkdocs-jupyter) (3.2.0)\n",
      "Requirement already satisfied: jupyter-core in c:\\users\\kovac\\anaconda3\\envs\\full_stack\\lib\\site-packages (from nbconvert<7,>=6.0.7->mkdocs-jupyter) (4.7.0)\n",
      "Requirement already satisfied: setuptools in c:\\users\\kovac\\anaconda3\\envs\\full_stack\\lib\\site-packages (from jsonschema!=2.5.0,>=2.4->nbformat->jupytext>=1.11.0->mkdocs-jupyter) (50.3.2.post20201202)\n",
      "Requirement already satisfied: pyrsistent>=0.14.0 in c:\\users\\kovac\\anaconda3\\envs\\full_stack\\lib\\site-packages (from jsonschema!=2.5.0,>=2.4->nbformat->jupytext>=1.11.0->mkdocs-jupyter) (0.17.3)\n",
      "Requirement already satisfied: six in c:\\users\\kovac\\anaconda3\\envs\\full_stack\\lib\\site-packages (from livereload>=2.5.1->mkdocs>=1.1.0->mkdocs-jupyter) (1.15.0)\n",
      "Requirement already satisfied: attrs<21,>=19 in c:\\users\\kovac\\anaconda3\\envs\\full_stack\\lib\\site-packages (from markdown-it-py~=0.6.0->jupytext>=1.11.0->mkdocs-jupyter) (20.3.0)\n",
      "Collecting nltk>=3.2.5\n",
      "  Downloading nltk-3.6.1-py3-none-any.whl (1.5 MB)\n",
      "Requirement already satisfied: tqdm in c:\\users\\kovac\\anaconda3\\envs\\full_stack\\lib\\site-packages (from nltk>=3.2.5->lunr[languages]==0.5.8->mkdocs>=1.1.0->mkdocs-jupyter) (4.54.0)\n",
      "Requirement already satisfied: click>=3.3 in c:\\users\\kovac\\anaconda3\\envs\\full_stack\\lib\\site-packages (from mkdocs>=1.1.0->mkdocs-jupyter) (7.1.2)\n",
      "Requirement already satisfied: regex in c:\\users\\kovac\\anaconda3\\envs\\full_stack\\lib\\site-packages (from nltk>=3.2.5->lunr[languages]==0.5.8->mkdocs>=1.1.0->mkdocs-jupyter) (2020.11.13)\n",
      "Requirement already satisfied: joblib in c:\\users\\kovac\\anaconda3\\envs\\full_stack\\lib\\site-packages (from nltk>=3.2.5->lunr[languages]==0.5.8->mkdocs>=1.1.0->mkdocs-jupyter) (0.17.0)\n",
      "Requirement already satisfied: pyparsing>=2.0.2 in c:\\users\\kovac\\anaconda3\\envs\\full_stack\\lib\\site-packages (from packaging->bleach->nbconvert<7,>=6.0.7->mkdocs-jupyter) (2.4.7)\n",
      "Requirement already satisfied: six in c:\\users\\kovac\\anaconda3\\envs\\full_stack\\lib\\site-packages (from livereload>=2.5.1->mkdocs>=1.1.0->mkdocs-jupyter) (1.15.0)\n",
      "Requirement already satisfied: ipython-genutils in c:\\users\\kovac\\anaconda3\\envs\\full_stack\\lib\\site-packages (from nbformat->jupytext>=1.11.0->mkdocs-jupyter) (0.2.0)\n",
      "Building wheels for collected packages: mkdocs-jupyter, livereload\n",
      "  Building wheel for mkdocs-jupyter (PEP 517): started\n",
      "  Building wheel for mkdocs-jupyter (PEP 517): finished with status 'done'\n",
      "  Created wheel for mkdocs-jupyter: filename=mkdocs_jupyter-0.16.1-py2.py3-none-any.whl size=1194117 sha256=84fbdd538cf1bf74660a5985ee21d1156e1e62a9ee84198b21a76be8b7967d23\n",
      "  Stored in directory: c:\\users\\kovac\\appdata\\local\\pip\\cache\\wheels\\6b\\d5\\89\\d79bcef727541e97555df7b9f0fd4c2364763394e4bf0dd35d\n",
      "  Building wheel for livereload (setup.py): started\n",
      "  Building wheel for livereload (setup.py): finished with status 'done'\n",
      "  Created wheel for livereload: filename=livereload-2.6.3-py2.py3-none-any.whl size=24713 sha256=927e149da2a0826deb652a09340453b09edc40611ac40dcab74c6a003449b36d\n",
      "  Stored in directory: c:\\users\\kovac\\appdata\\local\\pip\\cache\\wheels\\48\\d7\\34\\372e0521bd5c9f6dcdff307e37ef6f9c00c1e1e2afc9707b5c\n",
      "Successfully built mkdocs-jupyter livereload\n",
      "Installing collected packages: future, nltk, mdit-py-plugins, lunr, markdown-it-py, Markdown, livereload, mkdocs, jupytext, mkdocs-jupyter\n",
      "Successfully installed Markdown-3.3.4 future-0.18.2 jupytext-1.11.1 livereload-2.6.3 lunr-0.5.8 markdown-it-py-0.6.2 mdit-py-plugins-0.2.6 mkdocs-1.1.2 mkdocs-jupyter-0.16.1 nltk-3.6.1\n"
     ]
    }
   ],
   "source": [
    "#!pip install mkdocs-jupyter"
   ]
  },
  {
   "cell_type": "code",
   "execution_count": 2,
   "metadata": {},
   "outputs": [],
   "source": [
    "class Car:\n",
    "    def __init__(self, wheels, power, color=\"red\"):\n",
    "        self.wheels = wheels\n",
    "        self.power = power\n",
    "        self.color = color\n",
    "        self.position = (0, 0)\n",
    "\n",
    "    def description(self, word):\n",
    "\n",
    "        return f\"\"\"\n",
    "The car is {self.color}\n",
    "It has {self.wheels} wheels\n",
    "Power: {self.power}\n",
    "\n",
    "A random word for you:\n",
    "{word}\n",
    "\"\"\".strip()\n",
    "\n",
    "    def move(self, distance):\n",
    "\n",
    "        old_x = self.position[0]\n",
    "        old_y = self.position[1]\n",
    "\n",
    "        self.position = (old_x + distance, old_y + distance)\n",
    "\n",
    "        print(f\"I'm now at {self.posicion}\")\n",
    "\n",
    "        return True"
   ]
  },
  {
   "cell_type": "code",
   "execution_count": 7,
   "metadata": {},
   "outputs": [],
   "source": [
    "porsche = Car(wheels=5, power=150)"
   ]
  },
  {
   "cell_type": "code",
   "execution_count": 8,
   "metadata": {},
   "outputs": [
    {
     "name": "stdout",
     "output_type": "stream",
     "text": [
      "The car is red\n",
      "It has 5 wheels\n",
      "Power: 150\n",
      "\n",
      "A random word for you:\n",
      "hellos strivers\n"
     ]
    }
   ],
   "source": [
    "print(porsche.description(\"hellos strivers\"))"
   ]
  },
  {
   "cell_type": "markdown",
   "metadata": {},
   "source": [
    "## TO DO:\n",
    "\n",
    "We are going to do some operations with a database. Those operations will be quite standardized, so maybe we can abstract them away. Now it's your job to do it."
   ]
  },
  {
   "cell_type": "markdown",
   "metadata": {},
   "source": [
    "Make things idempotent whenever possible."
   ]
  },
  {
   "cell_type": "code",
   "execution_count": 9,
   "metadata": {},
   "outputs": [],
   "source": [
    "import datetime as dt"
   ]
  },
  {
   "cell_type": "code",
   "execution_count": 25,
   "metadata": {},
   "outputs": [],
   "source": [
    "import sqlite3\n",
    "\n",
    "# CREATE TABLE IF NOT EXISTS users (..., ..., ...)  -- <-- complete this\n",
    "\n",
    "DB_SCHEMA = \"\"\"\n",
    "CREATE TABLE IF NOT EXISTS logs (time TEXT, key TEXT, value TEXT)\n",
    "CREATE TABLE IF NOT EXISTS users (time TEXT, key TEXT, value TEXT)\n",
    "\"\"\".strip()\n",
    "\n",
    "\n",
    "class DB:\n",
    "    def __init__(self, dbname):\n",
    "        self.dbname = dbname\n",
    "\n",
    "        self.conn = sqlite3.connect(self.dbname)\n",
    "\n",
    "        with self.conn as cursor:\n",
    "            cursor.execute(DB_SCHEMA)\n",
    "\n",
    "    def insert_log(self, key, value):\n",
    "        now = dt.datetime.utcnow().isoformat()\n",
    "\n",
    "        with self.conn as cursor:\n",
    "            cursor.execute(\n",
    "                \"INSERT INTO logs VALUES (:time, :key, :value)\",\n",
    "                {\"time\": now, \"key\": key, \"value\": value},\n",
    "            )\n",
    "\n",
    "    def create_user(self, email, user_id, key):\n",
    "        # TODO\n",
    "        # insert a new user\n",
    "\n",
    "        # return the new user created\n",
    "        pass\n",
    "\n",
    "    def validate_key(self, key):\n",
    "        # TODO\n",
    "        # check the user_id OR key OR both that is associated with the key\n",
    "\n",
    "        # return the user_id / email\n",
    "        pass"
   ]
  },
  {
   "cell_type": "code",
   "execution_count": 26,
   "metadata": {},
   "outputs": [
    {
     "ename": "OperationalError",
     "evalue": "near \"CREATE\": syntax error",
     "output_type": "error",
     "traceback": [
      "\u001b[1;31m---------------------------------------------------------------------------\u001b[0m",
      "\u001b[1;31mOperationalError\u001b[0m                          Traceback (most recent call last)",
      "\u001b[1;32m<ipython-input-26-3d0a9756350a>\u001b[0m in \u001b[0;36m<module>\u001b[1;34m\u001b[0m\n\u001b[1;32m----> 1\u001b[1;33m \u001b[0mdb\u001b[0m \u001b[1;33m=\u001b[0m \u001b[0mDB\u001b[0m\u001b[1;33m(\u001b[0m\u001b[0mdbname\u001b[0m\u001b[1;33m=\u001b[0m\u001b[1;34m\"test.db\"\u001b[0m\u001b[1;33m)\u001b[0m\u001b[1;33m\u001b[0m\u001b[1;33m\u001b[0m\u001b[0m\n\u001b[0m",
      "\u001b[1;32m<ipython-input-25-c53e0e3f0d0d>\u001b[0m in \u001b[0;36m__init__\u001b[1;34m(self, dbname)\u001b[0m\n\u001b[0;32m     16\u001b[0m \u001b[1;33m\u001b[0m\u001b[0m\n\u001b[0;32m     17\u001b[0m         \u001b[1;32mwith\u001b[0m \u001b[0mself\u001b[0m\u001b[1;33m.\u001b[0m\u001b[0mconn\u001b[0m \u001b[1;32mas\u001b[0m \u001b[0mcursor\u001b[0m\u001b[1;33m:\u001b[0m\u001b[1;33m\u001b[0m\u001b[1;33m\u001b[0m\u001b[0m\n\u001b[1;32m---> 18\u001b[1;33m             \u001b[0mcursor\u001b[0m\u001b[1;33m.\u001b[0m\u001b[0mexecute\u001b[0m\u001b[1;33m(\u001b[0m\u001b[0mDB_SCHEMA\u001b[0m\u001b[1;33m)\u001b[0m\u001b[1;33m\u001b[0m\u001b[1;33m\u001b[0m\u001b[0m\n\u001b[0m\u001b[0;32m     19\u001b[0m \u001b[1;33m\u001b[0m\u001b[0m\n\u001b[0;32m     20\u001b[0m     \u001b[1;32mdef\u001b[0m \u001b[0minsert_log\u001b[0m\u001b[1;33m(\u001b[0m\u001b[0mself\u001b[0m\u001b[1;33m,\u001b[0m \u001b[0mkey\u001b[0m\u001b[1;33m,\u001b[0m \u001b[0mvalue\u001b[0m\u001b[1;33m)\u001b[0m\u001b[1;33m:\u001b[0m\u001b[1;33m\u001b[0m\u001b[1;33m\u001b[0m\u001b[0m\n",
      "\u001b[1;31mOperationalError\u001b[0m: near \"CREATE\": syntax error"
     ]
    }
   ],
   "source": [
    "db = DB(dbname=\"test.db\")"
   ]
  },
  {
   "cell_type": "code",
   "execution_count": 27,
   "metadata": {},
   "outputs": [
    {
     "ename": "NameError",
     "evalue": "name 'db' is not defined",
     "output_type": "error",
     "traceback": [
      "\u001b[1;31m---------------------------------------------------------------------------\u001b[0m",
      "\u001b[1;31mNameError\u001b[0m                                 Traceback (most recent call last)",
      "\u001b[1;32m<ipython-input-27-4209956d9fb2>\u001b[0m in \u001b[0;36m<module>\u001b[1;34m\u001b[0m\n\u001b[1;32m----> 1\u001b[1;33m \u001b[0mdb\u001b[0m\u001b[1;33m.\u001b[0m\u001b[0minsert_log\u001b[0m\u001b[1;33m(\u001b[0m\u001b[1;34m\"hello\"\u001b[0m\u001b[1;33m,\u001b[0m \u001b[1;34m\"world\"\u001b[0m\u001b[1;33m)\u001b[0m\u001b[1;33m\u001b[0m\u001b[1;33m\u001b[0m\u001b[0m\n\u001b[0m",
      "\u001b[1;31mNameError\u001b[0m: name 'db' is not defined"
     ]
    }
   ],
   "source": [
    "db.insert_log(\"hello\", \"world\")"
   ]
  },
  {
   "cell_type": "code",
   "execution_count": null,
   "metadata": {},
   "outputs": [],
   "source": []
  }
 ],
 "metadata": {
  "kernelspec": {
   "display_name": "Python 3",
   "language": "python",
   "name": "python3"
  },
  "language_info": {
   "codemirror_mode": {
    "name": "ipython",
    "version": 3
   },
   "file_extension": ".py",
   "mimetype": "text/x-python",
   "name": "python",
   "nbconvert_exporter": "python",
   "pygments_lexer": "ipython3",
   "version": "3.8.5"
  }
 },
 "nbformat": 4,
 "nbformat_minor": 5
}
